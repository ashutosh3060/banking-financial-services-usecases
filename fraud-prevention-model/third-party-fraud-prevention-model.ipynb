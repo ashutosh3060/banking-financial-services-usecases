{
 "cells": [
  {
   "cell_type": "markdown",
   "metadata": {},
   "source": [
    "# Libraries & Packages"
   ]
  },
  {
   "cell_type": "code",
   "execution_count": 1,
   "metadata": {},
   "outputs": [],
   "source": [
    "from sklearn.model_selection import StratifiedKFold\n",
    "import pandas as pd \n",
    "import matplotlib.pyplot as plt\n",
    "import seaborn as sns\n",
    "import lightgbm as lgb\n",
    "from sklearn.model_selection import KFold\n",
    "import warnings\n",
    "import time\n",
    "import sys\n",
    "import datetime\n",
    "import matplotlib.pyplot as plt\n",
    "import seaborn as sns\n",
    "from sklearn.metrics import mean_squared_error\n",
    "\n",
    "\n",
    "import random\n",
    "import numpy as np\n",
    "import pandas as pd\n",
    "import time\n",
    "import lightgbm as lgb\n",
    "from sklearn.model_selection import StratifiedKFold, KFold\n",
    "from sklearn.metrics import mean_squared_error\n",
    "from sklearn.metrics import log_loss\n",
    "\n",
    "from sklearn.model_selection import train_test_split\n",
    "warnings.simplefilter(action='ignore', category=FutureWarning)\n",
    "pd.set_option('display.max_columns', 5000)\n",
    "\n",
    "from sklearn.model_selection import GridSearchCV\n",
    "from sklearn.metrics import auc\n",
    "from sklearn.metrics import confusion_matrix, roc_curve, roc_auc_score\n",
    "from sklearn import model_selection\n",
    "\n",
    "from imblearn.over_sampling import SMOTE\n",
    "from imblearn.under_sampling import RandomUnderSampler\n",
    "\n",
    "# Datetime\n",
    "from datetime import datetime\n",
    "from datetime import timedelta\n",
    "from sklearn import metrics\n",
    "\n",
    "# Handle warnings (during execution of code)\n",
    "import warnings\n",
    "warnings.simplefilter(\"ignore\")\n",
    "\n",
    "import pickle\n",
    "from sklearn.externals import joblib\n",
    "\n",
    "# Display and visualization related libraries\n",
    "from IPython.display import display, HTML\n",
    "pd.options.display.max_rows= 5000\n",
    "pd.options.display.max_columns= 5000\n",
    "\n",
    "\n",
    "# Psycopg is the most popular PostgreSQL database adapter for the Python programming language\n",
    "import psycopg2"
   ]
  },
  {
   "cell_type": "markdown",
   "metadata": {},
   "source": [
    "# Functions"
   ]
  },
  {
   "cell_type": "code",
   "execution_count": 5,
   "metadata": {},
   "outputs": [],
   "source": [
    "def treat_inf(dataset):\n",
    "    dataset.replace({np.inf:0,-np.inf:0,'inf':0,float('inf'):0},inplace = True)\n",
    "    return dataset\n",
    "\n",
    "\n",
    "\n",
    "# outlier_headers is present inside the data_preprocessing_functions\n",
    "def treatna(dataset,type=0):\n",
    "    if type ==0:\n",
    "        dataset.fillna(0,inplace= True)\n",
    "    elif type == 'mean':\n",
    "        inf_df = infer_schema(dataset,ret_inference= True)\n",
    "        continuos_values = inf_df[inf_df.number_of_classes>11].feature_name.values\n",
    "        dataset[continuos_values] = dataset[continuos_values].fillna(dataset[continuos_values].mean())\n",
    "    elif type == 'mode':\n",
    "        inf_df = infer_schema(dataset,ret_inference= True)\n",
    "        categorical = inf_df[inf_df.number_of_classes<=11].feature_name.values        \n",
    "        for col in categorical:\n",
    "            model_dataset[col] = model_dataset[col].fillna(model_dataset[col].value_counts().index[0])\n",
    "    else:\n",
    "        pass\n",
    "\n",
    "    return dataset\n",
    "\n",
    "\n",
    "def infer(series):\n",
    "    temp = series.apply(lambda x:evaluation(x)).dtype\n",
    "    return temp\n",
    "\n",
    "def infer_schema(dataset,apply_schema = False, ret_inference =False):\n",
    "    df_dtypes_unique_classses = pd.DataFrame([(col,dataset[col].dtype,dataset[col].unique().shape[0],infer(dataset[col])) for col in dataset],columns = ['feature_name','data_type','number_of_classes','suggested_dtype'])\n",
    "    display(df_dtypes_unique_classses)\n",
    "    if apply_schema:\n",
    "        dict_ = df_dtypes_unique_classses[['feature_name','suggested_dtype']].set_index('feature_name').to_dict()['suggested_dtype']\n",
    "        dataset = dataset.astype(dict_)\n",
    "        return dataset\n",
    "    if ret_inference:\n",
    "        return df_dtypes_unique_classses\n",
    "\n",
    "\n",
    "def treatna(dataset,type=0):\n",
    "    if type ==0:\n",
    "        dataset.fillna(0,inplace= True)\n",
    "    elif type == 'mean':\n",
    "        inf_df = infer_schema(dataset,ret_inference= True)\n",
    "        continuos_values = inf_df[inf_df.number_of_classes>11].feature_name.values\n",
    "        dataset[continuos_values] = dataset[continuos_values].fillna(dataset[continuos_values].mean())\n",
    "    elif type == 'mode':\n",
    "        inf_df = infer_schema(dataset,ret_inference= True)\n",
    "        categorical = inf_df[inf_df.number_of_classes<=11].feature_name.values        \n",
    "        for col in categorical:\n",
    "            model_dataset[col] = model_dataset[col].fillna(model_dataset[col].value_counts().index[0])\n",
    "    else:\n",
    "        pass\n",
    "\n",
    "    return dataset\n",
    "\n",
    "\n",
    "##### Validation Metric    #####\n",
    "\n",
    "def gini_calc(actual,prediction):\n",
    "    return (2*roc_auc_score(list(actual), prediction))-1\n",
    "\n",
    "\n",
    "def perf_measure(y_actual, y_pred):\n",
    "    TP = 0\n",
    "    FP = 0\n",
    "    TN = 0\n",
    "    FN = 0\n",
    "\n",
    "    for i in range(len(y_pred)): \n",
    "        if y_actual[i]==y_pred[i]==1:\n",
    "            TP += 1\n",
    "        if y_pred[i]==1 and y_actual[i]!=y_pred[i]:\n",
    "            FP += 1\n",
    "        if y_actual[i]==y_pred[i]==0:\n",
    "            TN += 1\n",
    "        if y_pred[i]==0 and y_actual[i]!=y_pred[i]:\n",
    "            FN += 1\n",
    "\n",
    "    return(TP, FP, TN, FN)\n",
    "\n",
    "\n",
    "\n",
    "def Capture_curve(y_test,preds,gini,title):\n",
    "    from sklearn.metrics import auc, roc_curve\n",
    "    fpr, tpr, threshold = roc_curve(y_test, preds)\n",
    "    roc_auc = auc(fpr, tpr)\n",
    "    rate = []\n",
    "    for i in threshold:\n",
    "        T = perf_measure(list(y_test),[1 if j >= i else 0 for j in preds])\n",
    "        rate.append(T[0]+T[1])\n",
    "    rate2 = [i/len(test) for i in rate]\n",
    "    plt.figure(figsize=[12,12])\n",
    "    plt.plot(rate2, tpr, label='Gini {}'.format(gini) % roc_auc, linewidth=4)\n",
    "    plt.plot([0, 1], [0, 1], 'k--', linewidth=4)\n",
    "    plt.xlim([-0.05, 1.0])\n",
    "    plt.ylim([-0.05, 1.05])\n",
    "    plt.xlabel('Sphonic Triggered proportion', fontsize=18)\n",
    "    plt.ylabel('Captured out of total rejects proportion', fontsize=18)\n",
    "    plt.title('Capture plot for {}'.format(title), fontsize=18)\n",
    "    plt.legend(loc=\"lower right\",prop={'size':30})\n",
    "    plt.show()\n",
    "    \n",
    "    \n",
    "def plot_roc_curve(y_test,preds,title): \n",
    "    \n",
    "    import sklearn.metrics as metrics\n",
    "# calculate the fpr and tpr for all thresholds of the classification\n",
    "\n",
    "    fpr, tpr, threshold = metrics.roc_curve(y_test, preds)\n",
    "    roc_auc = metrics.auc(fpr, tpr)\n",
    "\n",
    "# method I: plt\n",
    "    import matplotlib.pyplot as plt\n",
    "    plt.figure(figsize=[12,12])\n",
    "    plt.title('ROC Curve for {}'.format(title), fontsize=18)\n",
    "    plt.plot(fpr, tpr, 'b', label = 'AUC = %0.2f' % roc_auc)\n",
    "    plt.legend(loc = 'lower right',prop={'size':30})\n",
    "    plt.plot([0, 1], [0, 1],'r--')\n",
    "    plt.xlim([0, 1])\n",
    "    plt.ylim([0, 1])\n",
    "    plt.ylabel('True Positive Rate', fontsize=18)\n",
    "    plt.xlabel('False Positive Rate', fontsize=18)\n",
    "    plt.show()   \n",
    "    \n",
    "\n",
    "\n",
    "\n"
   ]
  },
  {
   "cell_type": "markdown",
   "metadata": {},
   "source": [
    "# Data Load"
   ]
  },
  {
   "cell_type": "code",
   "execution_count": null,
   "metadata": {},
   "outputs": [],
   "source": [
    "# Master data\n",
    "df_master_data = pd.read_csv('s3://master_data_folder/master_data.csv', encoding='latin-1')\n"
   ]
  },
  {
   "cell_type": "code",
   "execution_count": null,
   "metadata": {},
   "outputs": [],
   "source": [
    "# Negative List\n",
    "xls = pd.ExcelFile('s3://master_data_folder/NegListJulyAugust.xlsx')\n",
    "Neg_list = pd.read_excel(xls, 'NegListReject2019')\n"
   ]
  },
  {
   "cell_type": "code",
   "execution_count": 5,
   "metadata": {},
   "outputs": [],
   "source": [
    "# Hard Policy\n",
    "df_hard_policy=pd.read_csv('s3://master_data_folder/credit_hard_policy_reject.csv')\n"
   ]
  },
  {
   "cell_type": "code",
   "execution_count": 6,
   "metadata": {},
   "outputs": [
    {
     "name": "stdout",
     "output_type": "stream",
     "text": [
      "(229303, 43)\n",
      "(317583, 3)\n",
      "(74757, 3)\n"
     ]
    }
   ],
   "source": [
    "# Gen 6.5 score\n",
    "df_gen65_score=pd.read_csv('s3://master_data_folder//Gen6_5_top_scores_created_at_all_PGs_+-30.csv')\n",
    "print(df_gen65_score.shape)\n",
    "df_gen65_score_analysis=pd.read_csv('s3://master_data_folder/playground.ccds_analysis_data_gen65.csv')\n",
    "print(df_gen65_score_analysis.shape)\n",
    "df_gen65_score_monitoring=pd.read_csv('s3://master_data_folder/uk6.5.monitoring.sample201907_gen65.csv')\n",
    "print(df_gen65_score_monitoring.shape)"
   ]
  },
  {
   "cell_type": "markdown",
   "metadata": {},
   "source": [
    "# Exclusion Logic"
   ]
  },
  {
   "cell_type": "markdown",
   "metadata": {},
   "source": [
    "# Below is the exclusion logic and serial wise flow \n",
    "'''\n",
    "COA ('18H2-'19H1)\n",
    "Test Application\n",
    "Gen6.5 HR\n",
    "Sphonic Pass\n",
    "Credit Hard Policy\n",
    "Negative List (Part of EDD)\n",
    "Purely EDDs\n",
    "Final sample for train and test\n",
    "'''"
   ]
  },
  {
   "cell_type": "markdown",
   "metadata": {},
   "source": [
    "### COA ('18H2-'19H1)"
   ]
  },
  {
   "cell_type": "code",
   "execution_count": 8,
   "metadata": {},
   "outputs": [
    {
     "data": {
      "text/plain": [
       "(86794, 737)"
      ]
     },
     "execution_count": 8,
     "metadata": {},
     "output_type": "execute_result"
    }
   ],
   "source": [
    "H22018_H12019=df_master_data_updated.loc[(df_master_data_updated['created_at']>='2018-07-01')&(df_master_data_updated['created_at']<='2019-06-30')]\n",
    "H22018_H12019.shape"
   ]
  },
  {
   "cell_type": "markdown",
   "metadata": {},
   "source": [
    "### Test Application"
   ]
  },
  {
   "cell_type": "code",
   "execution_count": 9,
   "metadata": {},
   "outputs": [
    {
     "data": {
      "text/plain": [
       "(86643, 737)"
      ]
     },
     "execution_count": 9,
     "metadata": {},
     "output_type": "execute_result"
    }
   ],
   "source": [
    "Internal_IPs=['5.148.48.186',\n",
    "'5.148.48.187',\n",
    "'5.148.48.188',\n",
    "'5.148.48.189',\n",
    "'5.148.48.190',\n",
    "'5.148.67.82',\n",
    "'5.148.67.83',\n",
    "'5.148.67.84',\n",
    "'5.148.67.85',\n",
    "'5.148.67.86']\n",
    "\n",
    "H22018_H12019_TestApp=H22018_H12019[~H22018_H12019.TrueIp.isin(Internal_IPs)]\n",
    "H22018_H12019_TestApp.shape"
   ]
  },
  {
   "cell_type": "markdown",
   "metadata": {},
   "source": [
    "### Gen 6.5 HR"
   ]
  },
  {
   "cell_type": "code",
   "execution_count": 10,
   "metadata": {},
   "outputs": [
    {
     "data": {
      "text/plain": [
       "(74321, 737)"
      ]
     },
     "execution_count": 10,
     "metadata": {},
     "output_type": "execute_result"
    }
   ],
   "source": [
    "H22018_H12019_TestApp_Gen65HR=H22018_H12019_TestApp.loc[H22018_H12019_TestApp['gen65_band']!='HR']\n",
    "H22018_H12019_TestApp_Gen65HR.shape"
   ]
  },
  {
   "cell_type": "markdown",
   "metadata": {},
   "source": [
    "### Sphonic Pass"
   ]
  },
  {
   "cell_type": "code",
   "execution_count": 11,
   "metadata": {},
   "outputs": [
    {
     "data": {
      "text/plain": [
       "(4394, 737)"
      ]
     },
     "execution_count": 11,
     "metadata": {},
     "output_type": "execute_result"
    }
   ],
   "source": [
    "H22018_H12019_TestApp_Gen65HR_sphonic=H22018_H12019_TestApp_Gen65HR.loc[H22018_H12019_TestApp_Gen65HR['sphonic_trig_flag']==1]\n",
    "H22018_H12019_TestApp_Gen65HR_sphonic.shape\n"
   ]
  },
  {
   "cell_type": "markdown",
   "metadata": {},
   "source": [
    "### Credit Hard Policy"
   ]
  },
  {
   "cell_type": "code",
   "execution_count": 12,
   "metadata": {},
   "outputs": [
    {
     "data": {
      "text/plain": [
       "(4394, 738)"
      ]
     },
     "execution_count": 12,
     "metadata": {},
     "output_type": "execute_result"
    }
   ],
   "source": [
    "# Merge the datasets\n",
    "H22018_H12019_TestApp_Gen65HR_sphonic_hardpolicy=pd.merge(H22018_H12019_TestApp_Gen65HR_sphonic,df_hard_policy[['application_uuid','hard.policy.flag']],how='left',on='application_uuid')\n",
    "H22018_H12019_TestApp_Gen65HR_sphonic_hardpolicy.shape\n"
   ]
  },
  {
   "cell_type": "code",
   "execution_count": 13,
   "metadata": {},
   "outputs": [],
   "source": [
    "# Impute null values for hard.policy.flag\n",
    "H22018_H12019_TestApp_Gen65HR_sphonic_hardpolicy['hard.policy.flag'].fillna(0,inplace=True)"
   ]
  },
  {
   "cell_type": "code",
   "execution_count": 14,
   "metadata": {},
   "outputs": [
    {
     "data": {
      "text/plain": [
       "(4252, 738)"
      ]
     },
     "execution_count": 14,
     "metadata": {},
     "output_type": "execute_result"
    }
   ],
   "source": [
    "# Filter all the non-hard_policy flagged apps\n",
    "H22018_H12019_TestApp_Gen65HR_sphonic_hardpolicy_merge=H22018_H12019_TestApp_Gen65HR_sphonic_hardpolicy.loc[H22018_H12019_TestApp_Gen65HR_sphonic_hardpolicy['hard.policy.flag']!=1]\n",
    "H22018_H12019_TestApp_Gen65HR_sphonic_hardpolicy_merge.shape\n"
   ]
  },
  {
   "cell_type": "markdown",
   "metadata": {},
   "source": [
    "### EDDs (2019 Negative List + Purely EDDs)"
   ]
  },
  {
   "cell_type": "code",
   "execution_count": 15,
   "metadata": {},
   "outputs": [
    {
     "data": {
      "text/plain": [
       "(4252, 739)"
      ]
     },
     "execution_count": 15,
     "metadata": {},
     "output_type": "execute_result"
    }
   ],
   "source": [
    "# Merge the datasets\n",
    "H22018_H12019_TestApp_Gen65HR_sphonic_hardpolicy_NegList = pd.merge(H22018_H12019_TestApp_Gen65HR_sphonic_hardpolicy_merge,Neg_list[['application_uuid','Opportunity ID']],how='left',on='application_uuid')\n",
    "H22018_H12019_TestApp_Gen65HR_sphonic_hardpolicy_NegList.shape\n"
   ]
  },
  {
   "cell_type": "code",
   "execution_count": 16,
   "metadata": {},
   "outputs": [],
   "source": [
    "# Impute null values for Opportunity ID\n",
    "H22018_H12019_TestApp_Gen65HR_sphonic_hardpolicy_NegList['Opportunity ID'].fillna(0,inplace=True)"
   ]
  },
  {
   "cell_type": "code",
   "execution_count": 17,
   "metadata": {},
   "outputs": [
    {
     "data": {
      "text/plain": [
       "(4191, 739)"
      ]
     },
     "execution_count": 17,
     "metadata": {},
     "output_type": "execute_result"
    }
   ],
   "source": [
    "# Filter all the non-negative list apps\n",
    "H22018_H12019_TestApp_Gen65HR_sphonic_hardpolicy_NegList_merge=H22018_H12019_TestApp_Gen65HR_sphonic_hardpolicy_NegList.loc[H22018_H12019_TestApp_Gen65HR_sphonic_hardpolicy_NegList['Opportunity ID']==0]\n",
    "H22018_H12019_TestApp_Gen65HR_sphonic_hardpolicy_NegList_merge.shape\n"
   ]
  },
  {
   "cell_type": "code",
   "execution_count": 18,
   "metadata": {},
   "outputs": [],
   "source": [
    "# Purely EDD Apps List\n",
    "EDD_Apps_List=['3f98bec4-6217-44af-98be-4afee962d678',\n",
    " '726cb32d-d128-4cdd-bf6a-5fa507f29df9',\n",
    " '1ef805f7-4b0b-4a55-827c-be6b0f126cf6',\n",
    " 'f4e1b1cc-26c5-403d-88d9-dd532fcf6c57',\n",
    " '59e2bc22-7750-49fb-bc96-1782bc58b95d',\n",
    " 'd43d0b47-4b3f-4239-966e-319fe6cb2a81',\n",
    " 'a5e28299-1a90-4931-9b33-c3487954e33a',\n",
    " '266229f0-86eb-4824-a7b1-b66af166f7cb',\n",
    " 'c3493e8b-3049-4f47-8ec4-340b7a79db60']"
   ]
  },
  {
   "cell_type": "code",
   "execution_count": 19,
   "metadata": {},
   "outputs": [
    {
     "data": {
      "text/plain": [
       "(4182, 739)"
      ]
     },
     "execution_count": 19,
     "metadata": {},
     "output_type": "execute_result"
    }
   ],
   "source": [
    "H22018_H12019_TestApp_Gen65HR_sphonic_hardpolicy_NegList_PurelyEDD=H22018_H12019_TestApp_Gen65HR_sphonic_hardpolicy_NegList_merge[~H22018_H12019_TestApp_Gen65HR_sphonic_hardpolicy_NegList_merge.application_uuid.isin(EDD_Apps_List)]\n",
    "H22018_H12019_TestApp_Gen65HR_sphonic_hardpolicy_NegList_PurelyEDD.shape"
   ]
  },
  {
   "cell_type": "markdown",
   "metadata": {},
   "source": [
    "### Final Sample for Train and Test"
   ]
  },
  {
   "cell_type": "code",
   "execution_count": 20,
   "metadata": {},
   "outputs": [
    {
     "data": {
      "text/plain": [
       "(4182, 739)"
      ]
     },
     "execution_count": 20,
     "metadata": {},
     "output_type": "execute_result"
    }
   ],
   "source": [
    "H22018_H12019_amt_req_nofilter=H22018_H12019_TestApp_Gen65HR_sphonic_hardpolicy_NegList_PurelyEDD.copy()\n",
    "H22018_H12019_amt_req_nofilter.shape\n"
   ]
  },
  {
   "cell_type": "markdown",
   "metadata": {},
   "source": [
    "# Feature Creation"
   ]
  },
  {
   "cell_type": "markdown",
   "metadata": {},
   "source": [
    "### SIC Code"
   ]
  },
  {
   "cell_type": "code",
   "execution_count": 21,
   "metadata": {},
   "outputs": [],
   "source": [
    "def sic_code_prefix(x):\n",
    "    try:\n",
    "        return int(str(x)[:2])\n",
    "    except:\n",
    "        return x\n",
    "    \n",
    "def prepare_sic_code(x):\n",
    "    try:\n",
    "        if x == 1 or x == 2:\n",
    "            return 'Agriculture And Forestry'\n",
    "        elif x == 5:\n",
    "            return 'Fishing'\n",
    "        elif x >= 10 and x <= 14:\n",
    "            return 'Mining And Quarrying'\n",
    "        elif x == 22:\n",
    "            return 'Publishing'\n",
    "        elif x == 37:\n",
    "            return 'Recycling'\n",
    "        elif x >= 40 and x <= 41:\n",
    "            return 'Electricity'\n",
    "        elif x  >= 50 and x <= 51:\n",
    "            return 'Wholesale'\n",
    "        elif x == 52:\n",
    "            return 'Retail'\n",
    "        elif x == 55:\n",
    "            return 'Hotels'\n",
    "        elif x >= 60 and x <= 64:\n",
    "            return 'Transport'\n",
    "        elif x >= 65 and x <= 67: \n",
    "            return 'Financial'\n",
    "        elif x >= 70 and x <= 74:\n",
    "            return 'Property'\n",
    "        elif x == 75:\n",
    "            return 'Public'\n",
    "        elif x == 80:\n",
    "            return 'Education'\n",
    "        elif x == 85:\n",
    "            return 'Health'\n",
    "        elif x == 90:\n",
    "            return 'Sewage'\n",
    "        elif x == 91:\n",
    "            return 'Other Community'\n",
    "        elif x == 92:\n",
    "            return 'Recreation'\n",
    "        elif x == 93:\n",
    "            return 'Other Service'\n",
    "        elif x == 95:\n",
    "            return \"Private Households\"\n",
    "        elif x == 99:\n",
    "            return \"International\"\n",
    "        else:\n",
    "            return 'Other'                      \n",
    "    except:\n",
    "        return x"
   ]
  },
  {
   "cell_type": "code",
   "execution_count": 22,
   "metadata": {},
   "outputs": [],
   "source": [
    "# For whole population\n",
    "H22018_H12019_amt_req_nofilter['sic_code_prefix'] = H22018_H12019_amt_req_nofilter['siccode1992'].apply(sic_code_prefix)\n"
   ]
  },
  {
   "cell_type": "code",
   "execution_count": 23,
   "metadata": {},
   "outputs": [],
   "source": [
    "# For whole population\n",
    "V = H22018_H12019_amt_req_nofilter['sic_code_prefix'].fillna('None')\n",
    "T = V.apply(prepare_sic_code)\n",
    "H22018_H12019_amt_req_nofilter['sic_code_categories'] = T"
   ]
  },
  {
   "cell_type": "markdown",
   "metadata": {},
   "source": [
    "### FraudScore > 1000"
   ]
  },
  {
   "cell_type": "code",
   "execution_count": 24,
   "metadata": {},
   "outputs": [],
   "source": [
    "H22018_H12019_amt_req_nofilter['FraudScore']=H22018_H12019_amt_req_nofilter['FraudScore'].replace(to_replace='None', value=0)\n",
    "H22018_H12019_amt_req_nofilter['FraudScore']=H22018_H12019_amt_req_nofilter['FraudScore'].astype('float')"
   ]
  },
  {
   "cell_type": "code",
   "execution_count": 25,
   "metadata": {},
   "outputs": [],
   "source": [
    "# For Whole population\n",
    "H22018_H12019_amt_req_nofilter['FraudScore>1000'] = H22018_H12019_amt_req_nofilter['FraudScore'].apply(lambda x: 1 if x > 1000 else 0)\n",
    "\n"
   ]
  },
  {
   "cell_type": "code",
   "execution_count": 26,
   "metadata": {},
   "outputs": [
    {
     "data": {
      "text/plain": [
       "(4182, 741)"
      ]
     },
     "execution_count": 26,
     "metadata": {},
     "output_type": "execute_result"
    }
   ],
   "source": [
    "H22018_H12019_amt_req_nofilter.shape"
   ]
  },
  {
   "cell_type": "markdown",
   "metadata": {},
   "source": [
    "## H1 2019 Dataset"
   ]
  },
  {
   "cell_type": "code",
   "execution_count": 27,
   "metadata": {},
   "outputs": [
    {
     "data": {
      "text/plain": [
       "(2475, 741)"
      ]
     },
     "execution_count": 27,
     "metadata": {},
     "output_type": "execute_result"
    }
   ],
   "source": [
    "# 2019 Data\n",
    "H1_2019=H22018_H12019_amt_req_nofilter.loc[H22018_H12019_amt_req_nofilter['created_at']>='2019-01-01']\n",
    "H1_2019.shape\n"
   ]
  },
  {
   "cell_type": "code",
   "execution_count": 28,
   "metadata": {},
   "outputs": [
    {
     "data": {
      "text/plain": [
       "(98, 741)"
      ]
     },
     "execution_count": 28,
     "metadata": {},
     "output_type": "execute_result"
    }
   ],
   "source": [
    "# Reject_Count for 2019 Data\n",
    "\n",
    "H1_2019_rej=H1_2019.loc[H1_2019['sphonic_rej_sf']==1]\n",
    "H1_2019_rej.shape\n"
   ]
  },
  {
   "cell_type": "markdown",
   "metadata": {},
   "source": [
    "## H2 2018 Dataset"
   ]
  },
  {
   "cell_type": "code",
   "execution_count": 29,
   "metadata": {},
   "outputs": [
    {
     "data": {
      "text/plain": [
       "(1707, 741)"
      ]
     },
     "execution_count": 29,
     "metadata": {},
     "output_type": "execute_result"
    }
   ],
   "source": [
    "# 2018 Data\n",
    "H2_2018=H22018_H12019_amt_req_nofilter.loc[(H22018_H12019_amt_req_nofilter['created_at']>='2018-07-01')&((H22018_H12019_amt_req_nofilter['created_at']<='2018-12-31'))]\n",
    "H2_2018.shape"
   ]
  },
  {
   "cell_type": "code",
   "execution_count": 30,
   "metadata": {},
   "outputs": [
    {
     "data": {
      "text/plain": [
       "(86, 741)"
      ]
     },
     "execution_count": 30,
     "metadata": {},
     "output_type": "execute_result"
    }
   ],
   "source": [
    "# Reject_Count for 2019 Data\n",
    "\n",
    "H2_2018_rej=H2_2018.loc[H2_2018['sphonic_rej_sf']==1]\n",
    "H2_2018_rej.shape"
   ]
  },
  {
   "cell_type": "markdown",
   "metadata": {},
   "source": [
    "## <=50k amount_requested"
   ]
  },
  {
   "cell_type": "code",
   "execution_count": 31,
   "metadata": {},
   "outputs": [
    {
     "data": {
      "text/plain": [
       "(1215, 741)"
      ]
     },
     "execution_count": 31,
     "metadata": {},
     "output_type": "execute_result"
    }
   ],
   "source": [
    "# 2019 train data\n",
    "H1_2019_amt_req_ltet50k=H1_2019.loc[H1_2019['amount_requested']<=50000]\n",
    "H1_2019_amt_req_ltet50k.shape\n"
   ]
  },
  {
   "cell_type": "code",
   "execution_count": 32,
   "metadata": {},
   "outputs": [
    {
     "data": {
      "text/plain": [
       "(48, 741)"
      ]
     },
     "execution_count": 32,
     "metadata": {},
     "output_type": "execute_result"
    }
   ],
   "source": [
    "# Reject_Count for 2019 Data\n",
    "\n",
    "H1_2019_amt_req_ltet50k_rej=H1_2019_amt_req_ltet50k.loc[H1_2019_amt_req_ltet50k['sphonic_rej_sf']==1]\n",
    "H1_2019_amt_req_ltet50k_rej.shape\n"
   ]
  },
  {
   "cell_type": "code",
   "execution_count": 33,
   "metadata": {},
   "outputs": [
    {
     "data": {
      "text/plain": [
       "(893, 741)"
      ]
     },
     "execution_count": 33,
     "metadata": {},
     "output_type": "execute_result"
    }
   ],
   "source": [
    "# 2018 test data\n",
    "H2_2018_amt_req_ltet50k=H2_2018.loc[H2_2018['amount_requested']<=50000]\n",
    "H2_2018_amt_req_ltet50k.shape"
   ]
  },
  {
   "cell_type": "code",
   "execution_count": 34,
   "metadata": {},
   "outputs": [
    {
     "data": {
      "text/plain": [
       "(51, 741)"
      ]
     },
     "execution_count": 34,
     "metadata": {},
     "output_type": "execute_result"
    }
   ],
   "source": [
    "# Reject_Count for 2018 Data\n",
    "\n",
    "H2_2018_amt_req_ltet50k_rej=H2_2018_amt_req_ltet50k.loc[H2_2018_amt_req_ltet50k['sphonic_rej_sf']==1]\n",
    "H2_2018_amt_req_ltet50k_rej.shape\n"
   ]
  },
  {
   "cell_type": "markdown",
   "metadata": {},
   "source": [
    "# Feature Set"
   ]
  },
  {
   "cell_type": "code",
   "execution_count": 35,
   "metadata": {},
   "outputs": [],
   "source": [
    "feature_set=['TrueIpLatitude',\n",
    "'diff_domainAge',\n",
    "'EAScore',\n",
    "'PolicyScore',\n",
    "'TrueIpLongitude',\n",
    "'FraudScore',\n",
    "'inventories',\n",
    "'max_pg_cc',\n",
    "'dl95_currbalance_m6',\n",
    "'enq_90days',\n",
    "'amount_pounds',\n",
    "'discdeprcharges',\n",
    "'dirs_avg_age',\n",
    "'onclaccruals',\n",
    "'totalcurrassets',\n",
    "'IdentityIp',\n",
    "'totalcurrlblts',\n",
    "'dl95_numactiveaccs_m2',\n",
    "'nr_pg',\n",
    "'TrueIpScore',\n",
    "'othcurrlblts',\n",
    "'enq_own_90days',\n",
    "'TrueIpWorstScore',\n",
    "'full_time_employees',\n",
    "'max_nr_mortgage',\n",
    "'amount_requested',\n",
    "'avg_nr_mnt_elect_roll_curr_addr',\n",
    "'max_nr_mnt_elect_roll_curr_addr']"
   ]
  },
  {
   "cell_type": "markdown",
   "metadata": {},
   "source": [
    "# Train & Test Datasets"
   ]
  },
  {
   "cell_type": "code",
   "execution_count": 36,
   "metadata": {},
   "outputs": [],
   "source": [
    "train = H1_2019_amt_req_ltet50k\n",
    "target = H1_2019_amt_req_ltet50k['sphonic_rej_sf']\n",
    "test = H2_2018_amt_req_ltet50k"
   ]
  },
  {
   "cell_type": "code",
   "execution_count": 37,
   "metadata": {},
   "outputs": [],
   "source": [
    "# Replace all None values for Features\n",
    "train['FraudScore']=train['FraudScore'].replace(to_replace='None', value=0)\n",
    "\n",
    "# Type cast the features for train and test datasets\n",
    "train['FraudScore']=train['FraudScore'].astype('float')\n",
    "train['totalhits']=train['totalhits'].astype('category')\n",
    "train['EAScore']=train['EAScore'].astype('float')\n",
    "train['EARiskBandID']=train['EARiskBandID'].astype('category')\n",
    "train['bin_avg_callcredit_score']=train['bin_avg_callcredit_score'].astype('category')\n",
    "train['bin_avg_pg_cc']=train['bin_avg_pg_cc'].astype('category')\n",
    "train['bin_min_callcredit_score']=train['bin_min_callcredit_score'].astype('category')\n",
    "train['bin_min_pg_cc']=train['bin_min_pg_cc'].astype('category')\n",
    "train['IdentityCount']=train['IdentityCount'].astype('category')\n",
    "train['IdentityIp']=train['IdentityIp'].astype('category')\n",
    "train['EAAdviceID']=train['EAAdviceID'].astype('category')\n",
    "train['IPMetroCode']=train['IPMetroCode'].astype('category')\n",
    "train['IPRiskReasonId']=train['IPRiskReasonId'].astype('category')\n",
    "train['sic_code_categories']=train['sic_code_categories'].astype('category')"
   ]
  },
  {
   "cell_type": "code",
   "execution_count": 38,
   "metadata": {},
   "outputs": [],
   "source": [
    "# Replace all None values for Features\n",
    "test['FraudScore']=test['FraudScore'].replace(to_replace='None', value=0)\n",
    "\n",
    "# Type cast the features for test dataset\n",
    "test['FraudScore']=test['FraudScore'].astype('float')\n",
    "test['totalhits']=test['totalhits'].astype('category')\n",
    "test['EAScore']=test['EAScore'].astype('float')\n",
    "test['EARiskBandID']=test['EARiskBandID'].astype('category')\n",
    "test['bin_avg_callcredit_score']=test['bin_avg_callcredit_score'].astype('category')\n",
    "test['bin_avg_pg_cc']=test['bin_avg_pg_cc'].astype('category')\n",
    "test['bin_min_callcredit_score']=test['bin_min_callcredit_score'].astype('category')\n",
    "test['bin_min_pg_cc']=test['bin_min_pg_cc'].astype('category')\n",
    "test['IdentityCount']=test['IdentityCount'].astype('category')\n",
    "test['IdentityIp']=test['IdentityIp'].astype('category')\n",
    "test['EAAdviceID']=test['EAAdviceID'].astype('category')\n",
    "test['IPMetroCode']=test['IPMetroCode'].astype('category')\n",
    "test['IPRiskReasonId']=test['IPRiskReasonId'].astype('category')\n",
    "test['sic_code_categories']=test['sic_code_categories'].astype('category')"
   ]
  },
  {
   "cell_type": "markdown",
   "metadata": {},
   "source": [
    "## Insample Train and Validation Datasets"
   ]
  },
  {
   "cell_type": "code",
   "execution_count": 39,
   "metadata": {},
   "outputs": [],
   "source": [
    "# Insample train and validation split\n",
    "X_train, X_test, y_train, y_test = train_test_split(train[feature_set], train['sphonic_rej_sf'], test_size=0.33, random_state=42)\n"
   ]
  },
  {
   "cell_type": "markdown",
   "metadata": {},
   "source": [
    "## Insample and OOT Datasets"
   ]
  },
  {
   "cell_type": "code",
   "execution_count": 40,
   "metadata": {},
   "outputs": [],
   "source": [
    "# Data for independent and target variables\n",
    "X_insample   = train[feature_set]\n",
    "X_oot        = test[feature_set]\n",
    "insample_act = train['sphonic_rej_sf']\n",
    "oot_act      = test['sphonic_rej_sf']"
   ]
  },
  {
   "cell_type": "markdown",
   "metadata": {},
   "source": [
    "# Model Training and Predictions"
   ]
  },
  {
   "cell_type": "code",
   "execution_count": 41,
   "metadata": {},
   "outputs": [],
   "source": [
    "sample_learning_rate_option=[0.005,0.001,0.05,0.01,0.1]\n",
    "sample_leaf_options = [100,200,350,500]\n",
    "sample_max_depths = [3,5,8,10,20,50]\n",
    "subsample_list=[0.5,0.6,0.7,0.8,0.85]\n",
    "\n",
    "Hyperparameter_search_lightgbm =pd.DataFrame(columns=['subsample' ,'max_depth','learning Rate','leaf_size','log_loss','gini_insample','gini_oot'])\n",
    "  \n",
    "for subsample in subsample_list :\n",
    "    for max_depth in sample_max_depths :\n",
    "            for num_leaves in sample_leaf_options:\n",
    "                for lr in sample_learning_rate_option :\n",
    "                    train_data=lgb.Dataset(X_train,label=y_train)\n",
    "                    validtn_data=lgb.Dataset(X_test,label=y_test)\n",
    "                    param = {'num_leaves':num_leaves, 'objective':'binary','max_depth':max_depth, 'learning_rate': lr, 'subsample': subsample ,'boosting_type' : 'dart'}\n",
    "                    param['metric'] = ['auc', 'binary_logloss']\n",
    "                    start=datetime.now()\n",
    "                    print(\"model fit start\")\n",
    "                    lgbm_model=lgb.train(param,train_data,valid_sets=validtn_data,verbose_eval= 10)\n",
    "#                   lgbm_model_cv_results = lgb.cv(param,train_data,verbose_eval= 10,nfold=5,stratified=True)\n",
    "                    insample_pred = lgbm_model.predict(X_insample,num_iteration=lgbm_model.best_iteration)\n",
    "                    oot_pred = lgbm_model.predict(X_oot,num_iteration=lgbm_model.best_iteration)\n",
    "                    stop=datetime.now()\n",
    "                    print(\"Model Prediction start\")\n",
    "                    logloss=metrics.log_loss(oot_act, oot_pred)\n",
    "                    roc_auc_insample = roc_auc_score(insample_act, insample_pred)\n",
    "                    roc_auc_oot      = roc_auc_score(oot_act, oot_pred)\n",
    "                    gini_insample    = round((2 * roc_auc_insample) - 1, 3)\n",
    "                    gini_oot         = round((2 * roc_auc_oot) - 1, 3)\n",
    "                    print(\"Hyperparamter tuning start\")\n",
    "                    Hyperparameter_search_lightgbm = Hyperparameter_search_lightgbm.append(\n",
    "                        pd.Series({'subsample' :subsample,'max_depth' :max_depth,'learning Rate' : lr ,\n",
    "                                   'leaf_size' : num_leaves,'log_loss' : logloss, \n",
    "                                   'gini_insample' :gini_insample ,'gini_oot' :gini_oot}),ignore_index=True)\n",
    "                    print(Hyperparameter_search_lightgbm)\n",
    "\n",
    "Hyperparameter_search_lightgbm.to_csv('sphonic_ltet50k_model'+\"_\"+str(stop)+'.csv')\n",
    "\n",
    "\n"
   ]
  },
  {
   "cell_type": "markdown",
   "metadata": {},
   "source": [
    "## Manual Model Train & Test with best hyperparameter"
   ]
  },
  {
   "cell_type": "code",
   "execution_count": 42,
   "metadata": {},
   "outputs": [
    {
     "name": "stdout",
     "output_type": "stream",
     "text": [
      "[10]\tvalid_0's binary_logloss: 0.151448\n",
      "[20]\tvalid_0's binary_logloss: 0.140331\n",
      "[30]\tvalid_0's binary_logloss: 0.137158\n",
      "[40]\tvalid_0's binary_logloss: 0.137276\n",
      "[50]\tvalid_0's binary_logloss: 0.139189\n",
      "[60]\tvalid_0's binary_logloss: 0.14363\n",
      "[70]\tvalid_0's binary_logloss: 0.147867\n",
      "[80]\tvalid_0's binary_logloss: 0.14372\n",
      "[90]\tvalid_0's binary_logloss: 0.143446\n",
      "[100]\tvalid_0's binary_logloss: 0.146984\n"
     ]
    }
   ],
   "source": [
    "# Best model feature importance\n",
    "\n",
    "param = {'num_leaves':100, 'objective':'binary','max_depth':3, 'learning_rate':0.05, 'subsample': 0.5 ,'boosting_type' : 'dart'}\n",
    "train_data=lgb.Dataset(X_train,label=y_train)\n",
    "validtn_data=lgb.Dataset(X_test,label=y_test)\n",
    "lgbm_model_best_hyperparam=lgb.train(param, train_data, valid_sets=validtn_data, verbose_eval= 10)\n",
    "insample_pred = lgbm_model_best_hyperparam.predict(X_insample,num_iteration=lgbm_model_best_hyperparam.best_iteration)\n",
    "oot_pred = lgbm_model_best_hyperparam.predict(X_oot,num_iteration=lgbm_model_best_hyperparam.best_iteration)\n",
    "\n",
    "# stop=datetime.now()\n",
    "# filename = \"sphonic_ltet50k_model\"+\"_\"+\"100\"+\"_\"+\"3\"+\"_\"+\"0.05\"+\"_\"+\"0.5\"+\"_\"+str(stop)+\".pickle\"\n",
    "# joblib.dump(lgbm_model_best_hyperparam, filename)\n"
   ]
  },
  {
   "cell_type": "markdown",
   "metadata": {},
   "source": [
    "## Gini"
   ]
  },
  {
   "cell_type": "markdown",
   "metadata": {},
   "source": [
    "### Test Gini"
   ]
  },
  {
   "cell_type": "code",
   "execution_count": 43,
   "metadata": {},
   "outputs": [
    {
     "name": "stdout",
     "output_type": "stream",
     "text": [
      "0.7594429695868845\n"
     ]
    }
   ],
   "source": [
    "# test gini\n",
    "test_gini = gini_calc(test['sphonic_rej_sf'],oot_pred)\n",
    "print(test_gini)"
   ]
  },
  {
   "cell_type": "markdown",
   "metadata": {},
   "source": [
    "### Train Gini"
   ]
  },
  {
   "cell_type": "code",
   "execution_count": 44,
   "metadata": {},
   "outputs": [
    {
     "name": "stdout",
     "output_type": "stream",
     "text": [
      "0.8962082262210795\n"
     ]
    }
   ],
   "source": [
    "# train gini\n",
    "train_gini = gini_calc(train['sphonic_rej_sf'],insample_pred)\n",
    "print(train_gini)"
   ]
  },
  {
   "cell_type": "markdown",
   "metadata": {},
   "source": [
    "# Mapping Application ids and prediction_probability"
   ]
  },
  {
   "cell_type": "code",
   "execution_count": 45,
   "metadata": {},
   "outputs": [],
   "source": [
    "H2_2018_amt_req_ltet50k_preds=H2_2018_amt_req_ltet50k.copy()"
   ]
  },
  {
   "cell_type": "code",
   "execution_count": 46,
   "metadata": {},
   "outputs": [],
   "source": [
    "H2_2018_amt_req_ltet50k_preds['preds']=list(oot_pred)"
   ]
  },
  {
   "cell_type": "code",
   "execution_count": 47,
   "metadata": {},
   "outputs": [
    {
     "data": {
      "text/plain": [
       "(893, 742)"
      ]
     },
     "execution_count": 47,
     "metadata": {},
     "output_type": "execute_result"
    }
   ],
   "source": [
    "sorted_results = H2_2018_amt_req_ltet50k_preds.sort_values(by ='preds' , ascending=False)\n",
    "sorted_results.shape"
   ]
  },
  {
   "cell_type": "code",
   "execution_count": 48,
   "metadata": {},
   "outputs": [],
   "source": [
    "def decile_cutoff_fraud_detected_perc(df_pred):\n",
    "    pop_perc=list(np.arange(0.1,1.1,0.1))\n",
    "    perc_list=[]\n",
    "    fraud_perc_list=[]\n",
    "    df_pop_fraud=pd.DataFrame(columns=['application_percentage','fraud_percentage'])\n",
    "    total_fraud_count=df_pred[df_pred['sphonic_rej_sf']==1]['application_uuid'].count()\n",
    "    for perc in pop_perc:\n",
    "        split_len = int(perc*len(df_pred))\n",
    "        sorted_results_final = df_pred.iloc[:split_len]\n",
    "        fraud_count=sorted_results_final[sorted_results_final['sphonic_rej_sf']==1]['application_uuid'].count()\n",
    "        perc_list.append(int(perc*100))\n",
    "        fraud_perc_list.append(round(((fraud_count/total_fraud_count)*100),2))\n",
    "    df_pop_fraud['application_percentage']=perc_list\n",
    "    df_pop_fraud['fraud_percentage']=fraud_perc_list  \n",
    "    return df_pop_fraud"
   ]
  },
  {
   "cell_type": "code",
   "execution_count": 49,
   "metadata": {},
   "outputs": [
    {
     "data": {
      "text/html": [
       "<div>\n",
       "<style scoped>\n",
       "    .dataframe tbody tr th:only-of-type {\n",
       "        vertical-align: middle;\n",
       "    }\n",
       "\n",
       "    .dataframe tbody tr th {\n",
       "        vertical-align: top;\n",
       "    }\n",
       "\n",
       "    .dataframe thead th {\n",
       "        text-align: right;\n",
       "    }\n",
       "</style>\n",
       "<table border=\"1\" class=\"dataframe\">\n",
       "  <thead>\n",
       "    <tr style=\"text-align: right;\">\n",
       "      <th></th>\n",
       "      <th>application_percentage</th>\n",
       "      <th>fraud_percentage</th>\n",
       "    </tr>\n",
       "  </thead>\n",
       "  <tbody>\n",
       "    <tr>\n",
       "      <th>0</th>\n",
       "      <td>10</td>\n",
       "      <td>60.78</td>\n",
       "    </tr>\n",
       "    <tr>\n",
       "      <th>1</th>\n",
       "      <td>20</td>\n",
       "      <td>74.51</td>\n",
       "    </tr>\n",
       "    <tr>\n",
       "      <th>2</th>\n",
       "      <td>30</td>\n",
       "      <td>80.39</td>\n",
       "    </tr>\n",
       "    <tr>\n",
       "      <th>3</th>\n",
       "      <td>40</td>\n",
       "      <td>92.16</td>\n",
       "    </tr>\n",
       "    <tr>\n",
       "      <th>4</th>\n",
       "      <td>50</td>\n",
       "      <td>96.08</td>\n",
       "    </tr>\n",
       "    <tr>\n",
       "      <th>5</th>\n",
       "      <td>60</td>\n",
       "      <td>100.00</td>\n",
       "    </tr>\n",
       "    <tr>\n",
       "      <th>6</th>\n",
       "      <td>70</td>\n",
       "      <td>100.00</td>\n",
       "    </tr>\n",
       "    <tr>\n",
       "      <th>7</th>\n",
       "      <td>80</td>\n",
       "      <td>100.00</td>\n",
       "    </tr>\n",
       "    <tr>\n",
       "      <th>8</th>\n",
       "      <td>90</td>\n",
       "      <td>100.00</td>\n",
       "    </tr>\n",
       "    <tr>\n",
       "      <th>9</th>\n",
       "      <td>100</td>\n",
       "      <td>100.00</td>\n",
       "    </tr>\n",
       "  </tbody>\n",
       "</table>\n",
       "</div>"
      ],
      "text/plain": [
       "   application_percentage  fraud_percentage\n",
       "0                      10             60.78\n",
       "1                      20             74.51\n",
       "2                      30             80.39\n",
       "3                      40             92.16\n",
       "4                      50             96.08\n",
       "5                      60            100.00\n",
       "6                      70            100.00\n",
       "7                      80            100.00\n",
       "8                      90            100.00\n",
       "9                     100            100.00"
      ]
     },
     "execution_count": 49,
     "metadata": {},
     "output_type": "execute_result"
    }
   ],
   "source": [
    "df_decile_cutoff=decile_cutoff_fraud_detected_perc(sorted_results)\n",
    "df_decile_cutoff"
   ]
  },
  {
   "cell_type": "code",
   "execution_count": 50,
   "metadata": {},
   "outputs": [],
   "source": [
    "def decile_cutoff_fraud_detected_num(df_pred):\n",
    "    pop_perc=list(np.arange(0.1,1.1,0.1))\n",
    "    perc_list=[]\n",
    "    fraud_perc_list=[]\n",
    "    df_pop_fraud=pd.DataFrame(columns=['application_percentage','number_of_frauds'])\n",
    "    total_fraud_count=df_pred[df_pred['sphonic_rej_sf']==1]['application_uuid'].count()\n",
    "    for perc in pop_perc:\n",
    "        split_len = int(perc*len(df_pred))\n",
    "        sorted_results_final = df_pred.iloc[:split_len]\n",
    "        fraud_count=sorted_results_final[sorted_results_final['sphonic_rej_sf']==1]['application_uuid'].count()\n",
    "        perc_list.append(int(perc*100))\n",
    "        fraud_perc_list.append(round(((fraud_count)),2))\n",
    "    df_pop_fraud['application_percentage']=perc_list\n",
    "    df_pop_fraud['number_of_frauds']=fraud_perc_list  \n",
    "    return df_pop_fraud"
   ]
  },
  {
   "cell_type": "code",
   "execution_count": 51,
   "metadata": {},
   "outputs": [
    {
     "data": {
      "text/plain": [
       "51"
      ]
     },
     "execution_count": 51,
     "metadata": {},
     "output_type": "execute_result"
    }
   ],
   "source": [
    "sorted_results[sorted_results['sphonic_rej_sf']==1]['application_uuid'].count()"
   ]
  },
  {
   "cell_type": "code",
   "execution_count": 125,
   "metadata": {},
   "outputs": [
    {
     "data": {
      "text/plain": [
       "(893, 742)"
      ]
     },
     "execution_count": 125,
     "metadata": {},
     "output_type": "execute_result"
    }
   ],
   "source": [
    "sorted_results.shape"
   ]
  },
  {
   "cell_type": "code",
   "execution_count": 75,
   "metadata": {},
   "outputs": [
    {
     "data": {
      "text/html": [
       "<div>\n",
       "<style scoped>\n",
       "    .dataframe tbody tr th:only-of-type {\n",
       "        vertical-align: middle;\n",
       "    }\n",
       "\n",
       "    .dataframe tbody tr th {\n",
       "        vertical-align: top;\n",
       "    }\n",
       "\n",
       "    .dataframe thead th {\n",
       "        text-align: right;\n",
       "    }\n",
       "</style>\n",
       "<table border=\"1\" class=\"dataframe\">\n",
       "  <thead>\n",
       "    <tr style=\"text-align: right;\">\n",
       "      <th></th>\n",
       "      <th>application_percentage</th>\n",
       "      <th>number_of_frauds</th>\n",
       "    </tr>\n",
       "  </thead>\n",
       "  <tbody>\n",
       "    <tr>\n",
       "      <th>0</th>\n",
       "      <td>10</td>\n",
       "      <td>31</td>\n",
       "    </tr>\n",
       "    <tr>\n",
       "      <th>1</th>\n",
       "      <td>20</td>\n",
       "      <td>38</td>\n",
       "    </tr>\n",
       "    <tr>\n",
       "      <th>2</th>\n",
       "      <td>30</td>\n",
       "      <td>41</td>\n",
       "    </tr>\n",
       "    <tr>\n",
       "      <th>3</th>\n",
       "      <td>40</td>\n",
       "      <td>47</td>\n",
       "    </tr>\n",
       "    <tr>\n",
       "      <th>4</th>\n",
       "      <td>50</td>\n",
       "      <td>49</td>\n",
       "    </tr>\n",
       "    <tr>\n",
       "      <th>5</th>\n",
       "      <td>60</td>\n",
       "      <td>51</td>\n",
       "    </tr>\n",
       "    <tr>\n",
       "      <th>6</th>\n",
       "      <td>70</td>\n",
       "      <td>51</td>\n",
       "    </tr>\n",
       "    <tr>\n",
       "      <th>7</th>\n",
       "      <td>80</td>\n",
       "      <td>51</td>\n",
       "    </tr>\n",
       "    <tr>\n",
       "      <th>8</th>\n",
       "      <td>90</td>\n",
       "      <td>51</td>\n",
       "    </tr>\n",
       "    <tr>\n",
       "      <th>9</th>\n",
       "      <td>100</td>\n",
       "      <td>51</td>\n",
       "    </tr>\n",
       "  </tbody>\n",
       "</table>\n",
       "</div>"
      ],
      "text/plain": [
       "   application_percentage  number_of_frauds\n",
       "0                      10                31\n",
       "1                      20                38\n",
       "2                      30                41\n",
       "3                      40                47\n",
       "4                      50                49\n",
       "5                      60                51\n",
       "6                      70                51\n",
       "7                      80                51\n",
       "8                      90                51\n",
       "9                     100                51"
      ]
     },
     "execution_count": 75,
     "metadata": {},
     "output_type": "execute_result"
    }
   ],
   "source": [
    "df_decile_cutoff_num=decile_cutoff_fraud_detected_num(sorted_results)\n",
    "df_decile_cutoff_num"
   ]
  },
  {
   "cell_type": "code",
   "execution_count": 76,
   "metadata": {},
   "outputs": [
    {
     "name": "stdout",
     "output_type": "stream",
     "text": [
      "60.78431372549019\n",
      "13.725490196078432\n",
      "5.88235294117647\n",
      "11.76470588235294\n",
      "3.9215686274509802\n",
      "3.9215686274509802\n",
      "0.0\n",
      "0.0\n",
      "0.0\n",
      "0.0\n"
     ]
    }
   ],
   "source": [
    "# Application % wise fraud percentage in each 10% of applications\n",
    "print((31/51)*100)\n",
    "print((7/51)*100)\n",
    "print((3/51)*100)\n",
    "print((6/51)*100)\n",
    "print((2/51)*100)\n",
    "print((2/51)*100)\n",
    "print((0/51)*100)\n",
    "print((0/51)*100)\n",
    "print((0/51)*100)\n",
    "print((0/51)*100)"
   ]
  },
  {
   "cell_type": "code",
   "execution_count": 126,
   "metadata": {},
   "outputs": [
    {
     "data": {
      "text/plain": [
       "89.3"
      ]
     },
     "execution_count": 126,
     "metadata": {},
     "output_type": "execute_result"
    }
   ],
   "source": [
    "893/10"
   ]
  },
  {
   "cell_type": "code",
   "execution_count": 127,
   "metadata": {},
   "outputs": [
    {
     "name": "stdout",
     "output_type": "stream",
     "text": [
      "34.831460674157306\n",
      "7.865168539325842\n",
      "3.3707865168539324\n",
      "6.741573033707865\n",
      "2.247191011235955\n",
      "2.247191011235955\n",
      "0.0\n",
      "0.0\n",
      "0.0\n",
      "0.0\n"
     ]
    }
   ],
   "source": [
    "print((31/89)*100)\n",
    "print((7/89)*100)\n",
    "print((3/89)*100)\n",
    "print((6/89)*100)\n",
    "print((2/89)*100)\n",
    "print((2/89)*100)\n",
    "print((0/89)*100)\n",
    "print((0/89)*100)\n",
    "print((0/89)*100)\n",
    "print((0/89)*100)"
   ]
  },
  {
   "cell_type": "code",
   "execution_count": 54,
   "metadata": {},
   "outputs": [],
   "source": [
    "# # Ventile for cut-off \n",
    "\n",
    "# def ventile_cutoff_fraud_detected(df_pred):\n",
    "#     pop_perc=list(np.arange(0.05,1.05,0.05))\n",
    "#     perc_list=[]\n",
    "#     fraud_perc_list=[]\n",
    "#     df_pop_fraud=pd.DataFrame(columns=['application_percentage','fraud_percentage'])\n",
    "#     total_fraud_count=df_pred[df_pred['sphonic_rej_sf']==1]['application_uuid'].count()\n",
    "#     for perc in pop_perc:\n",
    "#         split_len = int(perc*len(df_pred))\n",
    "#         sorted_results_final = df_pred.iloc[:split_len]\n",
    "#         fraud_count=sorted_results_final[sorted_results_final['sphonic_rej_sf']==1]['application_uuid'].count()\n",
    "#         perc_list.append(int(perc*100))\n",
    "#         fraud_perc_list.append(round(((fraud_count/total_fraud_count)*100),2))\n",
    "#     df_pop_fraud['application_percentage']=perc_list\n",
    "#     df_pop_fraud['fraud_percentage']=fraud_perc_list  \n",
    "#     return df_pop_fraud\n",
    "\n",
    "# df_ventile_cutoff=ventile_cutoff_fraud_detected(sorted_results)\n",
    "# df_ventile_cutoff"
   ]
  },
  {
   "cell_type": "markdown",
   "metadata": {},
   "source": [
    "## Graph for % of fraud Capture"
   ]
  },
  {
   "cell_type": "markdown",
   "metadata": {},
   "source": [
    "## Test"
   ]
  },
  {
   "cell_type": "code",
   "execution_count": 55,
   "metadata": {},
   "outputs": [
    {
     "data": {
      "image/png": "[encoded data removed]",
      "text/plain": [
       "<Figure size 864x864 with 1 Axes>"
      ]
     },
     "metadata": {},
     "output_type": "display_data"
    }
   ],
   "source": [
    "Capture_curve(oot_act,oot_pred,round(test_gini,2),'Test Data (2018 H2)')"
   ]
  },
  {
   "cell_type": "markdown",
   "metadata": {},
   "source": [
    "## Train"
   ]
  },
  {
   "cell_type": "code",
   "execution_count": 56,
   "metadata": {},
   "outputs": [
    {
     "data": {
      "image/png": "[encoded data removed]",
      "text/plain": [
       "<Figure size 864x864 with 1 Axes>"
      ]
     },
     "metadata": {},
     "output_type": "display_data"
    }
   ],
   "source": [
    "Capture_curve(insample_act,insample_pred,round(train_gini,2),'Train Data (2019 H1)')"
   ]
  },
  {
   "cell_type": "markdown",
   "metadata": {},
   "source": [
    "## Feature Importance"
   ]
  },
  {
   "cell_type": "code",
   "execution_count": 57,
   "metadata": {},
   "outputs": [
    {
     "data": {
      "text/plain": [
       "<matplotlib.axes._subplots.AxesSubplot at 0x7f6688ccdda0>"
      ]
     },
     "execution_count": 57,
     "metadata": {},
     "output_type": "execute_result"
    },
    {
     "data": {
      "image/png": "[encoded data removed]",
      "text/plain": [
       "<Figure size 504x720 with 1 Axes>"
      ]
     },
     "metadata": {},
     "output_type": "display_data"
    }
   ],
   "source": [
    "lgb.plot_importance(lgbm_model_best_hyperparam, importance_type='split', title='Feature importance', xlabel='Number of times the feature is used in the model', figsize=(7,10))\n",
    "\n"
   ]
  },
  {
   "cell_type": "markdown",
   "metadata": {},
   "source": [
    "### Test after excluding Gen 6.5 score > 0.2"
   ]
  },
  {
   "cell_type": "code",
   "execution_count": 58,
   "metadata": {},
   "outputs": [
    {
     "name": "stdout",
     "output_type": "stream",
     "text": [
      "229303\n",
      "317583\n",
      "74757\n"
     ]
    }
   ],
   "source": [
    "# Number of unique application_uuid in each dataset\n",
    "print(df_gen65_score['application_uuid'].nunique())\n",
    "print(df_gen65_score_wenjun['application_uuid'].nunique())\n",
    "print(df_gen65_score_monitoring['application_uuid'].nunique())"
   ]
  },
  {
   "cell_type": "code",
   "execution_count": 59,
   "metadata": {},
   "outputs": [],
   "source": [
    "# Creating dataframes for final merging of datasets\n",
    "df_gen65_score_f=df_gen65_score[['application_uuid','final_score']]\n",
    "df_gen65_score_wenjun_f=df_gen65_score_wenjun[['application_uuid','gen65_score_wenjun']]\n",
    "df_gen65_score_monitoring_f=df_gen65_score_monitoring[['application_uuid','gen65_score_monitoring']]"
   ]
  },
  {
   "cell_type": "code",
   "execution_count": 60,
   "metadata": {},
   "outputs": [
    {
     "name": "stdout",
     "output_type": "stream",
     "text": [
      "(318095, 3)\n",
      "(327444, 4)\n"
     ]
    }
   ],
   "source": [
    "df_merge_gen65_wenjun=df_gen65_score_f.merge(df_gen65_score_wenjun_f,how='outer',on='application_uuid')\n",
    "print(df_merge_gen65_wenjun.shape)\n",
    "df_merged_final=df_merge_gen65_wenjun.merge(df_gen65_score_monitoring_f,how='outer',on='application_uuid')\n",
    "print(df_merged_final.shape)"
   ]
  },
  {
   "cell_type": "code",
   "execution_count": 61,
   "metadata": {},
   "outputs": [
    {
     "name": "stdout",
     "output_type": "stream",
     "text": [
      "(327444, 4)\n"
     ]
    },
    {
     "data": {
      "text/html": [
       "<div>\n",
       "<style scoped>\n",
       "    .dataframe tbody tr th:only-of-type {\n",
       "        vertical-align: middle;\n",
       "    }\n",
       "\n",
       "    .dataframe tbody tr th {\n",
       "        vertical-align: top;\n",
       "    }\n",
       "\n",
       "    .dataframe thead th {\n",
       "        text-align: right;\n",
       "    }\n",
       "</style>\n",
       "<table border=\"1\" class=\"dataframe\">\n",
       "  <thead>\n",
       "    <tr style=\"text-align: right;\">\n",
       "      <th></th>\n",
       "      <th>application_uuid</th>\n",
       "      <th>final_score</th>\n",
       "      <th>gen65_score_wenjun</th>\n",
       "      <th>gen65_score_monitoring</th>\n",
       "    </tr>\n",
       "  </thead>\n",
       "  <tbody>\n",
       "    <tr>\n",
       "      <th>0</th>\n",
       "      <td>0fd4ae42-1119-4849-8f7c-7c14a455a26e</td>\n",
       "      <td>0.065182</td>\n",
       "      <td>0.065182</td>\n",
       "      <td>0.065182</td>\n",
       "    </tr>\n",
       "    <tr>\n",
       "      <th>1</th>\n",
       "      <td>0fd4dbe3-104a-470c-b9c0-761706305961</td>\n",
       "      <td>0.206053</td>\n",
       "      <td>0.206053</td>\n",
       "      <td>NaN</td>\n",
       "    </tr>\n",
       "    <tr>\n",
       "      <th>2</th>\n",
       "      <td>0fd4f0a2-3b74-48cc-90d2-988d17414ce1</td>\n",
       "      <td>0.068732</td>\n",
       "      <td>0.068732</td>\n",
       "      <td>0.068732</td>\n",
       "    </tr>\n",
       "    <tr>\n",
       "      <th>3</th>\n",
       "      <td>0fd5775c-95e5-490f-8d6e-07786a7af620</td>\n",
       "      <td>0.017880</td>\n",
       "      <td>0.017880</td>\n",
       "      <td>NaN</td>\n",
       "    </tr>\n",
       "    <tr>\n",
       "      <th>4</th>\n",
       "      <td>0fd5a1b5-59f5-4d39-90c5-0ac5609d6ba7</td>\n",
       "      <td>0.021004</td>\n",
       "      <td>0.021004</td>\n",
       "      <td>NaN</td>\n",
       "    </tr>\n",
       "  </tbody>\n",
       "</table>\n",
       "</div>"
      ],
      "text/plain": [
       "                       application_uuid  final_score  gen65_score_wenjun  \\\n",
       "0  0fd4ae42-1119-4849-8f7c-7c14a455a26e     0.065182            0.065182   \n",
       "1  0fd4dbe3-104a-470c-b9c0-761706305961     0.206053            0.206053   \n",
       "2  0fd4f0a2-3b74-48cc-90d2-988d17414ce1     0.068732            0.068732   \n",
       "3  0fd5775c-95e5-490f-8d6e-07786a7af620     0.017880            0.017880   \n",
       "4  0fd5a1b5-59f5-4d39-90c5-0ac5609d6ba7     0.021004            0.021004   \n",
       "\n",
       "   gen65_score_monitoring  \n",
       "0                0.065182  \n",
       "1                     NaN  \n",
       "2                0.068732  \n",
       "3                     NaN  \n",
       "4                     NaN  "
      ]
     },
     "execution_count": 61,
     "metadata": {},
     "output_type": "execute_result"
    }
   ],
   "source": [
    "print(df_merged_final.shape)\n",
    "df_merged_final.head()"
   ]
  },
  {
   "cell_type": "code",
   "execution_count": 62,
   "metadata": {},
   "outputs": [],
   "source": [
    "df_merged_final_copy=df_merged_final.copy()"
   ]
  },
  {
   "cell_type": "code",
   "execution_count": 63,
   "metadata": {},
   "outputs": [
    {
     "data": {
      "text/html": [
       "<div>\n",
       "<style scoped>\n",
       "    .dataframe tbody tr th:only-of-type {\n",
       "        vertical-align: middle;\n",
       "    }\n",
       "\n",
       "    .dataframe tbody tr th {\n",
       "        vertical-align: top;\n",
       "    }\n",
       "\n",
       "    .dataframe thead th {\n",
       "        text-align: right;\n",
       "    }\n",
       "</style>\n",
       "<table border=\"1\" class=\"dataframe\">\n",
       "  <thead>\n",
       "    <tr style=\"text-align: right;\">\n",
       "      <th></th>\n",
       "      <th>application_uuid</th>\n",
       "      <th>final_score</th>\n",
       "      <th>gen65_score_wenjun</th>\n",
       "      <th>gen65_score_monitoring</th>\n",
       "      <th>gen65_score_combined</th>\n",
       "    </tr>\n",
       "  </thead>\n",
       "  <tbody>\n",
       "    <tr>\n",
       "      <th>0</th>\n",
       "      <td>0fd4ae42-1119-4849-8f7c-7c14a455a26e</td>\n",
       "      <td>0.065182</td>\n",
       "      <td>0.065182</td>\n",
       "      <td>0.065182</td>\n",
       "      <td>0.065182</td>\n",
       "    </tr>\n",
       "    <tr>\n",
       "      <th>1</th>\n",
       "      <td>0fd4dbe3-104a-470c-b9c0-761706305961</td>\n",
       "      <td>0.206053</td>\n",
       "      <td>0.206053</td>\n",
       "      <td>NaN</td>\n",
       "      <td>0.206053</td>\n",
       "    </tr>\n",
       "    <tr>\n",
       "      <th>2</th>\n",
       "      <td>0fd4f0a2-3b74-48cc-90d2-988d17414ce1</td>\n",
       "      <td>0.068732</td>\n",
       "      <td>0.068732</td>\n",
       "      <td>0.068732</td>\n",
       "      <td>0.068732</td>\n",
       "    </tr>\n",
       "    <tr>\n",
       "      <th>3</th>\n",
       "      <td>0fd5775c-95e5-490f-8d6e-07786a7af620</td>\n",
       "      <td>0.017880</td>\n",
       "      <td>0.017880</td>\n",
       "      <td>NaN</td>\n",
       "      <td>0.017880</td>\n",
       "    </tr>\n",
       "    <tr>\n",
       "      <th>4</th>\n",
       "      <td>0fd5a1b5-59f5-4d39-90c5-0ac5609d6ba7</td>\n",
       "      <td>0.021004</td>\n",
       "      <td>0.021004</td>\n",
       "      <td>NaN</td>\n",
       "      <td>0.021004</td>\n",
       "    </tr>\n",
       "  </tbody>\n",
       "</table>\n",
       "</div>"
      ],
      "text/plain": [
       "                       application_uuid  final_score  gen65_score_wenjun  \\\n",
       "0  0fd4ae42-1119-4849-8f7c-7c14a455a26e     0.065182            0.065182   \n",
       "1  0fd4dbe3-104a-470c-b9c0-761706305961     0.206053            0.206053   \n",
       "2  0fd4f0a2-3b74-48cc-90d2-988d17414ce1     0.068732            0.068732   \n",
       "3  0fd5775c-95e5-490f-8d6e-07786a7af620     0.017880            0.017880   \n",
       "4  0fd5a1b5-59f5-4d39-90c5-0ac5609d6ba7     0.021004            0.021004   \n",
       "\n",
       "   gen65_score_monitoring  gen65_score_combined  \n",
       "0                0.065182              0.065182  \n",
       "1                     NaN              0.206053  \n",
       "2                0.068732              0.068732  \n",
       "3                     NaN              0.017880  \n",
       "4                     NaN              0.021004  "
      ]
     },
     "execution_count": 63,
     "metadata": {},
     "output_type": "execute_result"
    }
   ],
   "source": [
    "df_merged_final_copy['gen65_score_combined'] = np.where(df_merged_final_copy[\"final_score\"].isnull(), (np.where(df_merged_final_copy[\"gen65_score_wenjun\"].isnull(), df_merged_final_copy[\"gen65_score_monitoring\"], df_merged_final_copy[\"gen65_score_wenjun\"])), df_merged_final_copy[\"final_score\"])\n",
    "df_merged_final_copy.head()\n",
    "\n"
   ]
  },
  {
   "cell_type": "code",
   "execution_count": 64,
   "metadata": {},
   "outputs": [
    {
     "name": "stdout",
     "output_type": "stream",
     "text": [
      "(31724, 5)\n",
      "(214676, 5)\n",
      "(81044, 5)\n"
     ]
    }
   ],
   "source": [
    "print(df_merged_final_copy[df_merged_final_copy['gen65_score_combined']>0.2].shape)\n",
    "print(df_merged_final_copy[df_merged_final_copy['gen65_score_combined']<=0.2].shape)\n",
    "print(df_merged_final_copy[df_merged_final_copy['gen65_score_combined'].isnull()].shape)"
   ]
  },
  {
   "cell_type": "code",
   "execution_count": 65,
   "metadata": {},
   "outputs": [
    {
     "name": "stdout",
     "output_type": "stream",
     "text": [
      "31724\n",
      "214676\n",
      "81044\n"
     ]
    }
   ],
   "source": [
    "print(df_merged_final_copy[df_merged_final_copy['gen65_score_combined']>0.2]['application_uuid'].nunique())\n",
    "print(df_merged_final_copy[df_merged_final_copy['gen65_score_combined']<=0.2]['application_uuid'].nunique())\n",
    "print(df_merged_final_copy[df_merged_final_copy['gen65_score_combined'].isnull()]['application_uuid'].nunique())"
   ]
  },
  {
   "cell_type": "code",
   "execution_count": 66,
   "metadata": {},
   "outputs": [
    {
     "data": {
      "text/plain": [
       "(886, 741)"
      ]
     },
     "execution_count": 66,
     "metadata": {},
     "output_type": "execute_result"
    }
   ],
   "source": [
    "Apps_Gen65_gt20score= list(df_merged_final_copy[df_merged_final_copy['gen65_score_combined']>0.2]['application_uuid'].unique())\n",
    "test_1=test[~test.application_uuid.isin(Apps_Gen65_gt20score)]\n",
    "test_1.shape\n"
   ]
  },
  {
   "cell_type": "code",
   "execution_count": 67,
   "metadata": {},
   "outputs": [
    {
     "data": {
      "text/plain": [
       "(1214, 741)"
      ]
     },
     "execution_count": 67,
     "metadata": {},
     "output_type": "execute_result"
    }
   ],
   "source": [
    "Apps_Gen65_gt20score= list(df_merged_final_copy[df_merged_final_copy['gen65_score_combined']>0.2]['application_uuid'].unique())\n",
    "train_1=train[~train.application_uuid.isin(Apps_Gen65_gt20score)]\n",
    "train_1.shape\n"
   ]
  },
  {
   "cell_type": "code",
   "execution_count": 68,
   "metadata": {},
   "outputs": [],
   "source": [
    "# Data for independent and target variables\n",
    "\n",
    "X_insample_1   = train_1[feature_set]\n",
    "X_oot_1        = test_1[feature_set]\n",
    "insample_act_1 = train_1['cifas_rej_sf']\n",
    "oot_act_1      = test_1['cifas_rej_sf']\n"
   ]
  },
  {
   "cell_type": "code",
   "execution_count": 69,
   "metadata": {},
   "outputs": [],
   "source": [
    "# insample_pred = lgbm_model_for_cum_gain.predict(X_insample,num_iteration=lgbm_model_for_cum_gain.best_iteration)\n",
    "oot_pred_1 = lgbm_model_best_hyperparam.predict(X_oot_1,num_iteration=lgbm_model_best_hyperparam.best_iteration)"
   ]
  },
  {
   "cell_type": "code",
   "execution_count": 70,
   "metadata": {},
   "outputs": [
    {
     "name": "stdout",
     "output_type": "stream",
     "text": [
      "0.76\n"
     ]
    }
   ],
   "source": [
    "# Test Gini after excluding applications which are having Gen 6.5 score > 0.2\n",
    "\n",
    "test_gini_1 = gini_calc(test_1['sphonic_rej_sf'],oot_pred_1)\n",
    "print(round(test_gini_1,2))"
   ]
  },
  {
   "cell_type": "markdown",
   "metadata": {},
   "source": [
    "## Code for checking Gini for Future Predictions"
   ]
  },
  {
   "cell_type": "code",
   "execution_count": 71,
   "metadata": {},
   "outputs": [],
   "source": [
    "Sphonic_ltet50k_model = pickle.load(open('sphonic_ltet50k_model_100_3_0.05_0.5_2019-09-11 12:27:37.491778.pickle', 'rb'))\n",
    "future_oot_pred_test = Sphonic_ltet50k_model.predict(X_oot)\n",
    "# print(future_oot_pred_test)\n"
   ]
  },
  {
   "cell_type": "code",
   "execution_count": 72,
   "metadata": {},
   "outputs": [
    {
     "name": "stdout",
     "output_type": "stream",
     "text": [
      "0.76\n"
     ]
    }
   ],
   "source": [
    "test_gini_test = gini_calc(test['sphonic_rej_sf'],future_oot_pred_test)\n",
    "print(round(test_gini_test,2))"
   ]
  },
  {
   "cell_type": "markdown",
   "metadata": {},
   "source": [
    "## borrower_type wise Model Performance"
   ]
  },
  {
   "cell_type": "code",
   "execution_count": 114,
   "metadata": {},
   "outputs": [],
   "source": [
    "oot_act_brrwrtype_New=sorted_results[sorted_results['borrower_type']=='New']['sphonic_rej_sf']\n",
    "oot_act_brrwrtype_Returning=sorted_results[sorted_results['borrower_type']=='Returning']['sphonic_rej_sf']\n",
    "oot_act_brrwrtype_Existing=sorted_results[sorted_results['borrower_type']=='Existing']['sphonic_rej_sf']"
   ]
  },
  {
   "cell_type": "code",
   "execution_count": 113,
   "metadata": {},
   "outputs": [],
   "source": [
    "oot_pred_New=sorted_results[sorted_results['borrower_type']=='New']['preds']\n",
    "oot_pred_Returning=sorted_results[sorted_results['borrower_type']=='Returning']['preds']\n",
    "oot_pred_Existing=sorted_results[sorted_results['borrower_type']=='Existing']['preds']"
   ]
  },
  {
   "cell_type": "code",
   "execution_count": 112,
   "metadata": {},
   "outputs": [
    {
     "name": "stdout",
     "output_type": "stream",
     "text": [
      "0.73\n"
     ]
    }
   ],
   "source": [
    "test_gini_brrwrtype_New = gini_calc(oot_act_brrwrtype_New,oot_pred_New)\n",
    "print(round(test_gini_brrwrtype_New,2))"
   ]
  },
  {
   "cell_type": "code",
   "execution_count": 117,
   "metadata": {},
   "outputs": [
    {
     "name": "stdout",
     "output_type": "stream",
     "text": [
      "0.71\n"
     ]
    }
   ],
   "source": [
    "test_gini_brrwrtype_Returning = gini_calc(oot_act_brrwrtype_Returning,oot_pred_Returning)\n",
    "print(round(test_gini_brrwrtype_Returning,2))"
   ]
  },
  {
   "cell_type": "code",
   "execution_count": 118,
   "metadata": {},
   "outputs": [
    {
     "name": "stdout",
     "output_type": "stream",
     "text": [
      "0.95\n"
     ]
    }
   ],
   "source": [
    "test_gini_brrwrtype_Existing = gini_calc(oot_act_brrwrtype_Existing,oot_pred_Existing)\n",
    "print(round(test_gini_brrwrtype_Existing,2))"
   ]
  },
  {
   "cell_type": "code",
   "execution_count": 120,
   "metadata": {},
   "outputs": [],
   "source": [
    "#New Customers\n",
    "sorted_results_New=sorted_results[sorted_results['borrower_type']=='New']\n",
    "#Returning Customers\n",
    "sorted_results_Returning=sorted_results[sorted_results['borrower_type']=='Returning']\n",
    "#Existing Customers\n",
    "sorted_results_Existing=sorted_results[sorted_results['borrower_type']=='Existing']"
   ]
  },
  {
   "cell_type": "code",
   "execution_count": 124,
   "metadata": {},
   "outputs": [
    {
     "data": {
      "text/html": [
       "<div>\n",
       "<style scoped>\n",
       "    .dataframe tbody tr th:only-of-type {\n",
       "        vertical-align: middle;\n",
       "    }\n",
       "\n",
       "    .dataframe tbody tr th {\n",
       "        vertical-align: top;\n",
       "    }\n",
       "\n",
       "    .dataframe thead th {\n",
       "        text-align: right;\n",
       "    }\n",
       "</style>\n",
       "<table border=\"1\" class=\"dataframe\">\n",
       "  <thead>\n",
       "    <tr style=\"text-align: right;\">\n",
       "      <th></th>\n",
       "      <th>application_percentage</th>\n",
       "      <th>fraud_percentage</th>\n",
       "    </tr>\n",
       "  </thead>\n",
       "  <tbody>\n",
       "    <tr>\n",
       "      <th>0</th>\n",
       "      <td>10</td>\n",
       "      <td>40.0</td>\n",
       "    </tr>\n",
       "    <tr>\n",
       "      <th>1</th>\n",
       "      <td>20</td>\n",
       "      <td>80.0</td>\n",
       "    </tr>\n",
       "    <tr>\n",
       "      <th>2</th>\n",
       "      <td>30</td>\n",
       "      <td>84.0</td>\n",
       "    </tr>\n",
       "    <tr>\n",
       "      <th>3</th>\n",
       "      <td>40</td>\n",
       "      <td>84.0</td>\n",
       "    </tr>\n",
       "    <tr>\n",
       "      <th>4</th>\n",
       "      <td>50</td>\n",
       "      <td>88.0</td>\n",
       "    </tr>\n",
       "    <tr>\n",
       "      <th>5</th>\n",
       "      <td>60</td>\n",
       "      <td>96.0</td>\n",
       "    </tr>\n",
       "    <tr>\n",
       "      <th>6</th>\n",
       "      <td>70</td>\n",
       "      <td>100.0</td>\n",
       "    </tr>\n",
       "    <tr>\n",
       "      <th>7</th>\n",
       "      <td>80</td>\n",
       "      <td>100.0</td>\n",
       "    </tr>\n",
       "    <tr>\n",
       "      <th>8</th>\n",
       "      <td>90</td>\n",
       "      <td>100.0</td>\n",
       "    </tr>\n",
       "    <tr>\n",
       "      <th>9</th>\n",
       "      <td>100</td>\n",
       "      <td>100.0</td>\n",
       "    </tr>\n",
       "  </tbody>\n",
       "</table>\n",
       "</div>"
      ],
      "text/plain": [
       "   application_percentage  fraud_percentage\n",
       "0                      10              40.0\n",
       "1                      20              80.0\n",
       "2                      30              84.0\n",
       "3                      40              84.0\n",
       "4                      50              88.0\n",
       "5                      60              96.0\n",
       "6                      70             100.0\n",
       "7                      80             100.0\n",
       "8                      90             100.0\n",
       "9                     100             100.0"
      ]
     },
     "execution_count": 124,
     "metadata": {},
     "output_type": "execute_result"
    }
   ],
   "source": [
    "df_decile_cutoff_New=decile_cutoff_fraud_detected_perc(sorted_results_New)\n",
    "df_decile_cutoff_New\n",
    "# df_decile_cutoff_Returning=decile_cutoff_fraud_detected_perc(sorted_results_Returning)\n",
    "# df_decile_cutoff_Returning\n",
    "# df_decile_cutoff_Existing=decile_cutoff_fraud_detected_perc(sorted_results_Existing)\n",
    "# df_decile_cutoff_Existing"
   ]
  },
  {
   "cell_type": "code",
   "execution_count": null,
   "metadata": {},
   "outputs": [],
   "source": []
  }
 ],
 "metadata": {
  "kernelspec": {
   "display_name": "conda_python3",
   "language": "python",
   "name": "conda_python3"
  },
  "language_info": {
   "codemirror_mode": {
    "name": "ipython",
    "version": 3
   },
   "file_extension": ".py",
   "mimetype": "text/x-python",
   "name": "python",
   "nbconvert_exporter": "python",
   "pygments_lexer": "ipython3",
   "version": "3.6.5"
  },
  "toc": {
   "base_numbering": 1,
   "nav_menu": {},
   "number_sections": true,
   "sideBar": false,
   "skip_h1_title": false,
   "title_cell": "Table of Contents",
   "title_sidebar": "Contents",
   "toc_cell": false,
   "toc_position": {},
   "toc_section_display": true,
   "toc_window_display": false
  },
  "varInspector": {
   "cols": {
    "lenName": 16,
    "lenType": 16,
    "lenVar": 40
   },
   "kernels_config": {
    "python": {
     "delete_cmd_postfix": "",
     "delete_cmd_prefix": "del ",
     "library": "var_list.py",
     "varRefreshCmd": "print(var_dic_list())"
    },
    "r": {
     "delete_cmd_postfix": ") ",
     "delete_cmd_prefix": "rm(",
     "library": "var_list.r",
     "varRefreshCmd": "cat(var_dic_list()) "
    }
   },
   "types_to_exclude": [
    "module",
    "function",
    "builtin_function_or_method",
    "instance",
    "_Feature"
   ],
   "window_display": false
  }
 },
 "nbformat": 4,
 "nbformat_minor": 2
}
